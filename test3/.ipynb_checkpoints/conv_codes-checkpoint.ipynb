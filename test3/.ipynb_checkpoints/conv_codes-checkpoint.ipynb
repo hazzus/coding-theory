{
 "cells": [
  {
   "cell_type": "markdown",
   "metadata": {},
   "source": [
    "# Сверточные коды"
   ]
  },
  {
   "cell_type": "markdown",
   "metadata": {},
   "source": [
    "## Task 1"
   ]
  },
  {
   "cell_type": "code",
   "execution_count": 1,
   "metadata": {},
   "outputs": [],
   "source": [
    "def Matrix(system, vars):\n",
    "    A = matrix([[equation.lhs().coefficient(v) for v in vars] for equation in system])\n",
    "    b = matrix([[equation.rhs()] for equation in system])\n",
    "    return (A, b)"
   ]
  },
  {
   "cell_type": "code",
   "execution_count": 2,
   "metadata": {},
   "outputs": [
    {
     "data": {
      "text/plain": [
       "(g0, g1, g2, g3, D)"
      ]
     },
     "execution_count": 2,
     "metadata": {},
     "output_type": "execute_result"
    }
   ],
   "source": [
    "var('g0, g1, g2, g3, D')"
   ]
  },
  {
   "cell_type": "code",
   "execution_count": 4,
   "metadata": {},
   "outputs": [],
   "source": [
    "es = [\n",
    "    g0 - D^3 * g1 == 0,\n",
    "    g1 - D^2 * g2 - D * g3 == 0,\n",
    "    g2 - D^2 * g1 == D,\n",
    "    (1 - D^2) * g3 - D * g2 == 0,\n",
    "]"
   ]
  },
  {
   "cell_type": "code",
   "execution_count": 10,
   "metadata": {},
   "outputs": [],
   "source": [
    "sol = solve(es, g0, g1, g2, g3)[0][0]"
   ]
  },
  {
   "cell_type": "code",
   "execution_count": 11,
   "metadata": {},
   "outputs": [
    {
     "data": {
      "text/plain": [
       "(\n",
       "[       1     -D^3        0        0]  [0]\n",
       "[       0        1     -D^2       -D]  [0]\n",
       "[       0     -D^2        1        0]  [D]\n",
       "[       0        0       -D -D^2 + 1], [0]\n",
       ")"
      ]
     },
     "execution_count": 11,
     "metadata": {},
     "output_type": "execute_result"
    }
   ],
   "source": [
    "Matrix(es, [g0, g1, g2, g3])"
   ]
  },
  {
   "cell_type": "code",
   "execution_count": 12,
   "metadata": {},
   "outputs": [
    {
     "data": {
      "text/plain": [
       "g0 == -(D^8 - 2*D^6)/(D^6 - 2*D^4 - D^2 + 1)"
      ]
     },
     "execution_count": 12,
     "metadata": {},
     "output_type": "execute_result"
    }
   ],
   "source": [
    "sol # g0(D)"
   ]
  },
  {
   "cell_type": "code",
   "execution_count": 18,
   "metadata": {},
   "outputs": [
    {
     "data": {
      "text/plain": [
       "g0 == 19*D^16 + 14*D^14 + 5*D^12 + 5*D^10 + D^8 + 2*D^6"
      ]
     },
     "execution_count": 18,
     "metadata": {},
     "output_type": "execute_result"
    }
   ],
   "source": [
    "taylor(sol, D, 0, 16) # last member's power is answer for dfree"
   ]
  },
  {
   "cell_type": "markdown",
   "metadata": {},
   "source": [
    "## Task 2"
   ]
  },
  {
   "cell_type": "code",
   "execution_count": 19,
   "metadata": {},
   "outputs": [
    {
     "data": {
      "text/plain": [
       "(I, D)"
      ]
     },
     "execution_count": 19,
     "metadata": {},
     "output_type": "execute_result"
    }
   ],
   "source": [
    "clear_vars()\n",
    "var('I, D')"
   ]
  },
  {
   "cell_type": "code",
   "execution_count": 22,
   "metadata": {},
   "outputs": [],
   "source": [
    "n = 4*D^7*I^2 + D^6*I\n",
    "m = 3*D^6*I + 6*D^3*I\n",
    "g0 = n / (1 - m)"
   ]
  },
  {
   "cell_type": "code",
   "execution_count": 25,
   "metadata": {},
   "outputs": [],
   "source": [
    "t = g0(I=1)\n",
    "f = diff(g0, I)(I=1)"
   ]
  },
  {
   "cell_type": "code",
   "execution_count": 26,
   "metadata": {},
   "outputs": [
    {
     "data": {
      "text/plain": [
       "1008*D^16 + 252*D^15 + 156*D^13 + 39*D^12 + 24*D^10 + 6*D^9 + 4*D^7 + D^6"
      ]
     },
     "execution_count": 26,
     "metadata": {},
     "output_type": "execute_result"
    }
   ],
   "source": [
    "taylor(t, D, 0, 16) # T(D, I)"
   ]
  },
  {
   "cell_type": "code",
   "execution_count": 51,
   "metadata": {},
   "outputs": [
    {
     "data": {
      "text/plain": [
       "4896*D^16 + 972*D^15 + 612*D^13 + 114*D^12 + 72*D^10 + 12*D^9 + 8*D^7 + D^6"
      ]
     },
     "execution_count": 51,
     "metadata": {},
     "output_type": "execute_result"
    }
   ],
   "source": [
    "taylor(f, D, 0, 16) # производящая функция ошибки на бит есть производная"
   ]
  },
  {
   "cell_type": "code",
   "execution_count": null,
   "metadata": {},
   "outputs": [],
   "source": []
  },
  {
   "cell_type": "markdown",
   "metadata": {},
   "source": [
    "## Task 3"
   ]
  },
  {
   "cell_type": "code",
   "execution_count": 35,
   "metadata": {},
   "outputs": [
    {
     "data": {
      "text/plain": [
       "array([[1, 1, 1, 1, 0, 0, 0, 0, 0, 0, 0, 0],\n",
       "       [1, 0, 0, 1, 0, 0, 0, 0, 0, 0, 0, 0],\n",
       "       [0, 0, 1, 1, 0, 0, 0, 0, 0, 0, 0, 0],\n",
       "       [1, 1, 1, 1, 1, 1, 1, 1, 0, 0, 0, 0],\n",
       "       [1, 0, 0, 1, 1, 0, 0, 1, 0, 0, 0, 0],\n",
       "       [0, 0, 1, 1, 0, 0, 1, 1, 0, 0, 0, 0]])"
      ]
     },
     "execution_count": 35,
     "metadata": {},
     "output_type": "execute_result"
    }
   ],
   "source": [
    "import numpy as np\n",
    "g1 = np.array([[1, 0, 0], [1, 1, 0]])\n",
    "g2 = np.array([[1, 1, 1, 1], [1, 0, 0, 1], [0, 0, 1, 1]])\n",
    "res = np.kron(g1, g2)\n",
    "res"
   ]
  },
  {
   "cell_type": "code",
   "execution_count": 36,
   "metadata": {},
   "outputs": [
    {
     "name": "stdout",
     "output_type": "stream",
     "text": [
      "111100000000\n",
      "100100000000\n",
      "001100000000\n",
      "111111110000\n",
      "100110010000\n",
      "001100110000\n"
     ]
    }
   ],
   "source": [
    "for i in res:\n",
    "    for j in i:\n",
    "        print(j, end='')\n",
    "    print()"
   ]
  },
  {
   "cell_type": "markdown",
   "metadata": {},
   "source": [
    "## Task 4"
   ]
  },
  {
   "cell_type": "code",
   "execution_count": 48,
   "metadata": {},
   "outputs": [],
   "source": [
    "from scipy.ndimage import shift\n",
    "\n",
    "J = [np.roll(np.eye(4), i, 0) for i in range(4)]"
   ]
  },
  {
   "cell_type": "code",
   "execution_count": 55,
   "metadata": {},
   "outputs": [],
   "source": [
    "w = [[2,0,1,1],[3,1,3,2]]\n",
    "h = [[J[x] for x in y] for y in w]"
   ]
  },
  {
   "cell_type": "code",
   "execution_count": 62,
   "metadata": {},
   "outputs": [],
   "source": [
    "def pp(m):\n",
    "    for i in m:\n",
    "        for j in i:\n",
    "            print(int(j), end='')\n",
    "        print()\n",
    "    print('=')"
   ]
  },
  {
   "cell_type": "code",
   "execution_count": 63,
   "metadata": {},
   "outputs": [
    {
     "name": "stdout",
     "output_type": "stream",
     "text": [
      "0010\n",
      "0001\n",
      "1000\n",
      "0100\n",
      "=\n",
      "1000\n",
      "0100\n",
      "0010\n",
      "0001\n",
      "=\n",
      "0001\n",
      "1000\n",
      "0100\n",
      "0010\n",
      "=\n",
      "0001\n",
      "1000\n",
      "0100\n",
      "0010\n",
      "=\n",
      "======\n",
      "0100\n",
      "0010\n",
      "0001\n",
      "1000\n",
      "=\n",
      "0001\n",
      "1000\n",
      "0100\n",
      "0010\n",
      "=\n",
      "0100\n",
      "0010\n",
      "0001\n",
      "1000\n",
      "=\n",
      "0010\n",
      "0001\n",
      "1000\n",
      "0100\n",
      "=\n",
      "======\n"
     ]
    }
   ],
   "source": [
    "for i in h:\n",
    "    for j in i:\n",
    "        pp(j)\n",
    "    print('======')"
   ]
  },
  {
   "cell_type": "markdown",
   "metadata": {},
   "source": [
    "Не помогло пришлось ручками набирать"
   ]
  },
  {
   "cell_type": "code",
   "execution_count": null,
   "metadata": {},
   "outputs": [],
   "source": []
  }
 ],
 "metadata": {
  "kernelspec": {
   "display_name": "SageMath 9.0",
   "language": "sage",
   "name": "sagemath"
  },
  "language_info": {
   "codemirror_mode": {
    "name": "ipython",
    "version": 3
   },
   "file_extension": ".py",
   "mimetype": "text/x-python",
   "name": "python",
   "nbconvert_exporter": "python",
   "pygments_lexer": "ipython3",
   "version": "3.8.5"
  }
 },
 "nbformat": 4,
 "nbformat_minor": 4
}
